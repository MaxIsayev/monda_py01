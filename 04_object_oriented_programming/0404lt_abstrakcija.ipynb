{
 "cells": [
  {
   "cell_type": "markdown",
   "metadata": {},
   "source": [
    "# Abstrakcija\n",
    "`Abstrakcija` leidžia apibrėžti klasę, jos atributus ir metodus taip, kad juos būtų galima perpanaudoti, siekiant išvengti kodo kartojimosi ir mažinti kompleksiškumą.\n",
    "\n",
    "---\n",
    "## Vidinis panaudojimas"
   ]
  },
  {
   "cell_type": "code",
   "execution_count": null,
   "metadata": {},
   "outputs": [],
   "source": [
    "class Automobilis:\n",
    "    def __init__(self, marke, modelis, metai=2023, spalva='pilka'):\n",
    "        self.marke = marke\n",
    "        self.modelis = modelis\n",
    "        self.metai = metai\n",
    "        self.spalva = spalva\n",
    "        self.max_greitis = 200\n",
    "        self.__greitis = 0\n",
    "\n",
    "    # šį privatų abstraktų metodą panaudosime keliose vietose\n",
    "    def __keisti_greiti(self, greitis):\n",
    "        if greitis > self.max_greitis:\n",
    "            greitis = self.max_greitis\n",
    "        if greitis < -10:\n",
    "            greitis = -10\n",
    "        self.__greitis = greitis\n",
    "        return greitis\n",
    "\n",
    "    # šį viešą abstraktų metodą irgi panaudosime keliose vietose\n",
    "    def vaziuoti(self):\n",
    "        greitis = self.__greitis\n",
    "        if greitis > 0:\n",
    "            print(f\"važiuoju {greitis} km/h greičiu\")\n",
    "        elif greitis < 0:\n",
    "            print(f\"važiuoju {abs(greitis)} km/h greičiu atgal\")\n",
    "        else:\n",
    "            print(\"stoviu\")\n",
    "\n",
    "    def didinti_greiti(self, pagreitis=10):\n",
    "        # panaudojame privatų metodą maksimalaus greičio ribojimui\n",
    "        self.__keisti_greiti(self.__greitis + pagreitis)\n",
    "        # panaudojame vieša metodą važiavimo situacijai išvesti\n",
    "        self.vaziuoti()\n",
    "\n",
    "    def mazinti_greiti(self, pagreitis=10):\n",
    "        # panaudojame privatų metodą maksimalaus greičio ribojimui\n",
    "        self.__keisti_greiti(self.__greitis - pagreitis)\n",
    "        # panaudojame vieša metodą važiavimo situacijai išvesti\n",
    "        self.vaziuoti()\n",
    "    \n",
    "\n",
    "guolis = Automobilis(\"Volkswagen\", \"Golf\")\n",
    "print(guolis.marke, guolis.modelis, guolis.metai, guolis.spalva)\n",
    "guolis.vaziuoti()\n",
    "guolis.didinti_greiti()\n",
    "guolis.didinti_greiti()\n",
    "guolis.didinti_greiti(20)\n",
    "guolis.didinti_greiti(170)\n",
    "guolis.mazinti_greiti(100)\n",
    "guolis.mazinti_greiti(50)\n",
    "guolis.mazinti_greiti(50)\n",
    "guolis.mazinti_greiti()\n",
    "guolis.didinti_greiti()"
   ]
  },
  {
   "cell_type": "markdown",
   "metadata": {},
   "source": [
    "---\n",
    "## Abstrakčių savybių ir metodų panaudojimas paveldėtose klasėse\n",
    "Pavyzdys - paveldėtose funkcijose mes visus metodus tiesiog naudojame:"
   ]
  },
  {
   "cell_type": "code",
   "execution_count": null,
   "metadata": {},
   "outputs": [],
   "source": [
    "class Elektromobilis(Automobilis):\n",
    "    pass\n",
    "\n",
    "\n",
    "tesla = Elektromobilis(\"Tesla\", \"Model-3\")\n",
    "print(tesla.marke, tesla.modelis, tesla.metai, tesla.spalva) # Tesla Model 3 2023 pilka\n",
    "tesla.vaziuoti() # stoviu\n",
    "tesla.didinti_greiti(100) # važiuoju 100 km/h greičiu"
   ]
  },
  {
   "cell_type": "markdown",
   "metadata": {},
   "source": [
    "---\n",
    "## Abstraktus `__init__` metodas su neribotais raktiniais argumentais"
   ]
  },
  {
   "cell_type": "code",
   "execution_count": null,
   "metadata": {},
   "outputs": [],
   "source": [
    "class Automobilis:\n",
    "    def __init__(self, marke, modelis, metai=2023, **kwargs):\n",
    "        self.marke = marke\n",
    "        self.modelis = modelis\n",
    "        self.metai = metai\n",
    "        self.spalva = 'pilka'\n",
    "        self.max_greitis = 200\n",
    "        for key, value in kwargs.items():\n",
    "            setattr(self, key, value)\n",
    "\n",
    "    def turbinti_varikli(self, speed=0):\n",
    "        if hasattr(self, \"max_greitis\"):\n",
    "            self.max_greitis += speed\n",
    "\n",
    "guolis = Automobilis(\"Volkswagen\", \"Golf\", 2021, kuro_tipas=\"benzinas\", variklis=\"1.6ti\")\n",
    "print(f\"{guolis.marke} {guolis.modelis}, {guolis.metai} m. {guolis.spalva}. Variklis: {guolis.variklis} {guolis.kuro_tipas}. Max. {guolis.max_greitis} km/h\")\n",
    "# Volkswagen Golf, 2023 m. pilka. Variklis: 1.6ti benzinas. Max. 200 km/h\n",
    "astra = Automobilis(\"Opel\", \"Astra\", 1997, kuro_tipas=\"benzinas\", variklis=\"1.6\", max_greitis=160)\n",
    "print(f\"{astra.marke} {astra.modelis}, {astra.metai} m. {astra.spalva}. Variklis: {astra.variklis} {astra.kuro_tipas}. Max. {astra.max_greitis} km/h\")\n",
    "# Opel Astra, 2023 m. pilka. Variklis: 1.6 benzinas. Max. 160 km/h\n",
    "astra.turbinti_varikli(25)\n",
    "print(f\"{astra.marke} {astra.modelis}, {astra.metai} m. {astra.spalva}. Variklis: {astra.variklis} {astra.kuro_tipas}. Max. {astra.max_greitis} km/h\")\n"
   ]
  },
  {
   "cell_type": "markdown",
   "metadata": {},
   "source": [
    "Čia atkreipkite dėmesį, kad numatytą reikšmę galima pakeisti per kwargs, jeigu kwargs apdorojimas vyksta po numatytos reikšmės nustatymo.\n",
    "\n",
    "---\n",
    "## Abstrakti funkcija informacijos apie klasės objektą spausdinimui"
   ]
  },
  {
   "cell_type": "code",
   "execution_count": null,
   "metadata": {},
   "outputs": [],
   "source": [
    "def informacija(obj: Automobilis):\n",
    "    print(f\"{obj.marke} {obj.modelis}, {obj.metai} m. {obj.spalva}. Variklis: {obj.variklis} {obj.kuro_tipas}. Max. {obj.max_greitis} km/h\")    \n",
    "\n",
    "informacija(guolis)\n",
    "informacija(astra)"
   ]
  },
  {
   "cell_type": "markdown",
   "metadata": {},
   "source": [
    "### Užduotis\n",
    "\n",
    "1. Parašykite klasę \"Baseinas\", kuri saugo informaciją apie vandens talpą ir dabartinį kiekį baseine.\n",
    "2. Klasė turi turėti metodus vandens papildymui ir nuleidimui bei esamo vandens kiekio patikrinimui. Vandens kiekio keitimui panaudokite abstraktų metodą.\n",
    "3. Sukurkite objektą ir kelis kartus iškvieskite klasės metodus. "
   ]
  },
  {
   "cell_type": "code",
   "execution_count": 1,
   "metadata": {},
   "outputs": [
    {
     "name": "stdout",
     "output_type": "stream",
     "text": [
      "Dabartinis kiakis lygi: 7000\n",
      "Dabartinis kiakis lygi: 6400\n",
      "Dabartinis kiakis lygi: 7400\n"
     ]
    }
   ],
   "source": [
    "# jusu kodo vieta\n",
    "class Baseinas:\n",
    "    def __init__(self, vandens_talpa, dabartinis_kiekis):\n",
    "        self.vandens_talpa = vandens_talpa\n",
    "        self.dabartinis_kiekis = dabartinis_kiekis\n",
    "\n",
    "    def __keisti_kieki(self, vandens_kiekis): \n",
    "        if vandens_kiekis > self.vandens_talpa:\n",
    "            vandens_kiekis = self.vandens_talpa    \n",
    "        if vandens_kiekis < 0:\n",
    "            vandens_kiekis = 0\n",
    "        self.dabartinis_kiekis = vandens_kiekis\n",
    "        return vandens_kiekis\n",
    "        \n",
    "    def papildyti_vandeni(self, kiekis):        \n",
    "        self.__keisti_kieki(self.dabartinis_kiekis + kiekis)  \n",
    "        \n",
    "    def nuleisti_vandeni(self, kiekis):        \n",
    "        self.__keisti_kieki(self.dabartinis_kiekis - kiekis)  \n",
    "\n",
    "    def spausdinti_talpa(self):\n",
    "        print(f\"Dabartinis kiakis lygi: {self.dabartinis_kiekis}\") \n",
    "\n",
    "        \n",
    "pool1 = Baseinas(15000, 7000)\n",
    "pool1.spausdinti_talpa()\n",
    "pool1.nuleisti_vandeni(600)\n",
    "pool1.spausdinti_talpa()\n",
    "pool1.papildyti_vandeni(1000)\n",
    "pool1.spausdinti_talpa()"
   ]
  }
 ],
 "metadata": {
  "kernelspec": {
   "display_name": "venv",
   "language": "python",
   "name": "python3"
  },
  "language_info": {
   "codemirror_mode": {
    "name": "ipython",
    "version": 3
   },
   "file_extension": ".py",
   "mimetype": "text/x-python",
   "name": "python",
   "nbconvert_exporter": "python",
   "pygments_lexer": "ipython3",
   "version": "3.11.7"
  }
 },
 "nbformat": 4,
 "nbformat_minor": 2
}

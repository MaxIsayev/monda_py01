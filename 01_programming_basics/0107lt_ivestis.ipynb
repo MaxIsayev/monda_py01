{
 "cells": [
  {
   "cell_type": "markdown",
   "metadata": {},
   "source": [
    "# Pirmoji pilna Python programa"
   ]
  },
  {
   "cell_type": "markdown",
   "metadata": {},
   "source": [
    "Jau beveik žinote pakankamai, kad galėtumėte parašyti pilną programą. Liko tik vartotojo įvestis, ir kintamojo tipo konvertavimas. Dabar mes juos ir išmoksime."
   ]
  },
  {
   "cell_type": "markdown",
   "metadata": {},
   "source": [
    "---\n",
    "\n",
    "## Vartotojo ivestis Python kalboje"
   ]
  },
  {
   "cell_type": "markdown",
   "metadata": {},
   "source": [
    "`input()` Funkcija leidžia programai paklausti vartotojo įvesties, ir tada grąžina tą įvestį kaip eilutę (string). \n",
    "\n",
    "**Sintaksė**:\n",
    "```python\n",
    "input(užklausa)\n",
    "```\n",
    "- `užklausa` (neprivaloma): Eilutė, kuri reprezentuoja numatytąjį pranešimą prieš įvestį.\n",
    "\n",
    "**Pavizdys**: Jei paleisite kodą, jums bus paprašyta įvesti savo vardą. Pateikus įvestį ir paspaudus \"Enter\", programa pasveikins jus naudodama vardą, kurį įvedėte."
   ]
  },
  {
   "cell_type": "code",
   "execution_count": 1,
   "metadata": {},
   "outputs": [
    {
     "name": "stdout",
     "output_type": "stream",
     "text": [
      "Labas, Kestutis!\n"
     ]
    }
   ],
   "source": [
    "name = input(\"Prašome ivesti savo vardą: \")\n",
    "print(f\"Labas, {name}!\")"
   ]
  },
  {
   "cell_type": "markdown",
   "metadata": {},
   "source": [
    "### Greita užduotis 1\n",
    "\n",
    "Parašykite mažą programą, kuri:\n",
    "1. Paklausia vartotojo apie jų mėgstamiausią `spalvą`.\n",
    "2. Paklausia vartotojo `skaičiaus`.\n",
    "3. Atspausdina teiginį, sakydama, \"Tavo mėgstama spalva yra spalva ir tavo mėgstamas skaičius yra skaičius.\""
   ]
  },
  {
   "cell_type": "code",
   "execution_count": 1,
   "metadata": {},
   "outputs": [
    {
     "name": "stdout",
     "output_type": "stream",
     "text": [
      "Tavo mėgstama spalva yra raudonas ir tavo mėgstamas skaičius yra 8!\n"
     ]
    }
   ],
   "source": [
    "color = input(\"Prašome ivesti savo spalva: \")\n",
    "number = input(\"Prašome ivesti savo skaiciu: \")\n",
    "\n",
    "print(f\"Tavo mėgstama spalva yra {color} ir tavo mėgstamas skaičius yra {number}!\")\n"
   ]
  },
  {
   "cell_type": "markdown",
   "metadata": {},
   "source": [
    "**Išvesties tipas**: `input()` Funkcija visada grąžina duomenis kaip eilutę (string). Jei norite naudoti šiuos duomenis kaip kitą tipą (pavyzdžiui, sveikąjį skaičių ar slankiojo kablelio skaičių), turėsite konvertuoti juos naudojant tipų keitimo funkcijas, pvz., int() arba float()."
   ]
  },
  {
   "cell_type": "code",
   "execution_count": 2,
   "metadata": {},
   "outputs": [
    {
     "name": "stdout",
     "output_type": "stream",
     "text": [
      "Po 10 metų jūs būsite 50 metų amžiaus.\n"
     ]
    }
   ],
   "source": [
    "amžius = input(\"Prašome įvesti savo amžių: \")\n",
    "amžius = int(amžius) # Konvertuoti eilutę į sveikąjį skaičių\n",
    "print(f\"Po 10 metų jums bus {amžius + 10} metų amžiaus.\")"
   ]
  },
  {
   "cell_type": "markdown",
   "metadata": {},
   "source": [
    "**Saugumo rūpestis**: Būkite atsargūs naudojant `input()` funkciją, ypač jei ketinate naudoti įvestus duomenis bet kokiame kodo vykdyme ar duomenų bazės užklausose. Netinkamai tvarkant šiuos duomenis gali kilti kodo įterpimo atakos rizika."
   ]
  },
  {
   "cell_type": "markdown",
   "metadata": {},
   "source": [
    "### Greita užduotis 2\n",
    "\n",
    "Parašykite paprastą programą, kuri surenka vartotojo ivestį ir iš jos išveda rezultatą. Būkite kūrybingi!"
   ]
  },
  {
   "cell_type": "code",
   "execution_count": 3,
   "metadata": {},
   "outputs": [
    {
     "name": "stdout",
     "output_type": "stream",
     "text": [
      "Suma:  17 \n",
      " Dalybos rezultatas: 0.8888888888888888 \n",
      " Daugybos rezultatas: 72\n"
     ]
    }
   ],
   "source": [
    "number1 = input(\"Iveskite 1 skaiciu\")\n",
    "number2 = input(\"Iveskite 2 skaiciu\")\n",
    "sum = int(number1)+int(number2)\n",
    "division = int(number1)/int(number2)\n",
    "multiplication = int(number1)*int(number2)\n",
    "print('Suma: ', sum, '\\n Dalybos rezultatas:' , division, '\\n Daugybos rezultatas:', multiplication)"
   ]
  },
  {
   "cell_type": "markdown",
   "metadata": {},
   "source": [
    "---\n",
    "\n",
    "## Išvada"
   ]
  },
  {
   "cell_type": "markdown",
   "metadata": {},
   "source": [
    "`input()` Funkcija yra esminė, norint padaryti savo Python programą interaktyvia. Tai užpildo spragą tarp vartotojo ir mašinos, leidžiant dinamiškiems programos veiksmams pagrįsti vartotojo įvestimi. Taigi dabar jūs turite galimybę parašyti paprastą programą, kuri paprašo vartotojo įvesties ir atlieka sąveiką su įvestimi. Taigi tai puikus momentas pradėti kurti kodą. Būkite kūrybingi."
   ]
  },
  {
   "cell_type": "markdown",
   "metadata": {},
   "source": [
    "---\n",
    "\n",
    "## Užduotis 1"
   ]
  },
  {
   "cell_type": "markdown",
   "metadata": {},
   "source": [
    "Parašykite pilna Python programa (`skaičiuotuvas.py`) - paprastas python skaičiuotuvas kuris:\n",
    "- paklausia vartotojo, kokį veiksmą jis planuoja atlikti\n",
    "- surenka du skaičius\n",
    "- atlieka pasirinkta operaciją su ivestai dviem skaičiais. Nepamirškite konvertuoti ivesties reikiama tipa.\n",
    "Rekomenduojama naudoti `if ... elif ... else` logika operaciju patikrinimui."
   ]
  },
  {
   "cell_type": "code",
   "execution_count": 2,
   "metadata": {},
   "outputs": [
    {
     "name": "stdout",
     "output_type": "stream",
     "text": [
      "rezultatas:  9 / 8\n",
      "1.125\n"
     ]
    }
   ],
   "source": [
    "operation = input(\"Iveskite operacija(+, -, *, /, ^) ir paspauskite ENTER\")\n",
    "number1 = input(\"Iveskite 1 skaiciu\")\n",
    "number2 = input(\"Iveskite 2 skaiciu\")\n",
    "print('rezultatas: ',number1, operation, number2)\n",
    "\n",
    "if operation=='+':\n",
    "    print(int(number1)+int(number2))\n",
    "elif  operation=='-':\n",
    "    print(int(number1)-int(number2))\n",
    "elif  operation=='*':\n",
    "    print(int(number1)*int(number2))\n",
    "elif  operation=='/':\n",
    "    print(int(number1)/int(number2))\n",
    "elif  operation=='^':\n",
    "    print(int(number1)**int(number2))  \n",
    "else:\n",
    "    print('invalid operation')  \n"
   ]
  },
  {
   "cell_type": "markdown",
   "metadata": {},
   "source": [
    "## Užduotis 2\n",
    "\n",
    "Galite bandyti įvykdyti aukščiau pateiktą užduotį naudodami vieną įvestį ir perduoti ją funkcijai eval() ir išspausdinti rezultatą.\n",
    "Tačiau tokia programa nebūtų saugi, nes vartotojas galėtų vykdyti nepageidaujamą Python kodą, o ne tik paprastą matematikos operaciją.\n",
    "Paeksperimentuokite."
   ]
  },
  {
   "cell_type": "code",
   "execution_count": 2,
   "metadata": {},
   "outputs": [
    {
     "name": "stdout",
     "output_type": "stream",
     "text": [
      "rezultatas:  81\n"
     ]
    }
   ],
   "source": [
    "operation = input(\"Iveskite operacija(+, -, *, /, **) ir paspauskite ENTER\")\n",
    "number1 = input(\"Iveskite 1 skaiciu\")\n",
    "number2 = input(\"Iveskite 2 skaiciu\")\n",
    "expression = f\"{number1} {operation} {number2}\"\n",
    "print('rezultatas: ',eval(expression))"
   ]
  },
  {
   "cell_type": "markdown",
   "metadata": {},
   "source": [
    "## Užduotis 3\n",
    "\n",
    "Parašykite programa, kuri surenka vartotojo ivestį ir iš jos išveda rezultatą. Būkite kūrybingi!"
   ]
  },
  {
   "cell_type": "code",
   "execution_count": 19,
   "metadata": {},
   "outputs": [
    {
     "name": "stdout",
     "output_type": "stream",
     "text": [
      "metai2024 keliamieji\n"
     ]
    }
   ],
   "source": [
    "year=input('Iveskite metus:')\n",
    "if int(year) == 0:\n",
    "    print(f'metai {year} keliamieji')\n",
    "elif int(year) % 4 == 0:\n",
    "    if int(year) %100 ==0:\n",
    "        if int(year)%400 == 0:\n",
    "            print(f'metai{year} keliamieji')\n",
    "        else:\n",
    "            print(f'metai{year} NEkeliamieji')\n",
    "    else:\n",
    "        print(f'metai{year} keliamieji')\n",
    "else: \n",
    "    print(f'metai{year} NEkeliamieji')"
   ]
  }
 ],
 "metadata": {
  "kernelspec": {
   "display_name": "venv",
   "language": "python",
   "name": "python3"
  },
  "language_info": {
   "codemirror_mode": {
    "name": "ipython",
    "version": 3
   },
   "file_extension": ".py",
   "mimetype": "text/x-python",
   "name": "python",
   "nbconvert_exporter": "python",
   "pygments_lexer": "ipython3",
   "version": "3.11.7"
  },
  "orig_nbformat": 4
 },
 "nbformat": 4,
 "nbformat_minor": 2
}
